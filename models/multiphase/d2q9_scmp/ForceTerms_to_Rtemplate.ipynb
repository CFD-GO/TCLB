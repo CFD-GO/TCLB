{
 "cells": [
  {
   "cell_type": "code",
   "execution_count": 1,
   "metadata": {},
   "outputs": [],
   "source": [
    "from sympy import *"
   ]
  },
  {
   "cell_type": "code",
   "execution_count": 35,
   "metadata": {},
   "outputs": [],
   "source": [
    "dFi, Fx,Fy,Fz, Ux,Uy,Uz, vx,vy,vz, rho, tau, gamma, wi = symbols('dFi, Fx,Fy,Fz, Ux,Uy,Uz, vx,vy,vz, rho, tau, gamma,wi', real=True)\n",
    "\n",
    "\n",
    "Phi2D = Matrix([ symbols('Phi_%s%s'%(x_,y_   )) for x_ in ['x', 'y'] for y_ in ['x', 'y'] ]).reshape(2,2)\n",
    "Phi = Matrix([ symbols('Phi_%s%s'%(x_,y_)) for x_ in ['x', 'y', 'z'] for y_ in ['x', 'y', 'z'] ]).reshape(3,3)\n",
    "\n",
    "F = Matrix([Fx,Fy,Fz])\n",
    "U = Matrix([Ux,Uy,Uz])\n",
    "v = Matrix([vx,vy,vz])\n",
    "\n",
    "cs2 = Rational(1) / 3\n"
   ]
  },
  {
   "cell_type": "code",
   "execution_count": 77,
   "metadata": {},
   "outputs": [
    {
     "data": {
      "text/latex": [
       "$\\displaystyle wi \\left(3 Fx \\left(- Ux + vx\\right) + 3 Fy \\left(- Uy + vy\\right) + 3 Fz \\left(- Uz + vz\\right) + 9 \\left(Fx vx + Fy vy + Fz vz\\right) \\left(Ux vx + Uy vy + Uz vz\\right)\\right)$"
      ],
      "text/plain": [
       "wi*(3*Fx*(-Ux + vx) + 3*Fy*(-Uy + vy) + 3*Fz*(-Uz + vz) + 9*(Fx*vx + Fy*vy + Fz*vz)*(Ux*vx + Uy*vy + Uz*vz))"
      ]
     },
     "execution_count": 77,
     "metadata": {},
     "output_type": "execute_result"
    }
   ],
   "source": [
    "Fi = wi * ( (v-U).dot(F)/cs2 + (v.dot(U)*v.dot(F))/cs2**2 )\n",
    "Fi"
   ]
  },
  {
   "cell_type": "code",
   "execution_count": 78,
   "metadata": {},
   "outputs": [
    {
     "data": {
      "text/latex": [
       "$\\displaystyle \\gamma wi \\left(- \\frac{\\frac{3 Fx^{2}}{2} + \\frac{3 Fy^{2}}{2} + \\frac{3 Fz^{2}}{2}}{\\rho} + \\frac{9 \\left(Fx vx + Fy vy + Fz vz\\right)^{2}}{2 \\rho}\\right) + wi \\left(3 Fx \\left(- Ux + vx\\right) + 3 Fy \\left(- Uy + vy\\right) + 3 Fz \\left(- Uz + vz\\right) + 9 \\left(Fx vx + Fy vy + Fz vz\\right) \\left(Ux vx + Uy vy + Uz vz\\right)\\right)$"
      ],
      "text/plain": [
       "gamma*wi*(-(3*Fx**2/2 + 3*Fy**2/2 + 3*Fz**2/2)/rho + 9*(Fx*vx + Fy*vy + Fz*vz)**2/(2*rho)) + wi*(3*Fx*(-Ux + vx) + 3*Fy*(-Uy + vy) + 3*Fz*(-Uz + vz) + 9*(Fx*vx + Fy*vy + Fz*vz)*(Ux*vx + Uy*vy + Uz*vz))"
      ]
     },
     "execution_count": 78,
     "metadata": {},
     "output_type": "execute_result"
    }
   ],
   "source": [
    "Fi = Fi + wi*gamma*(v.dot(F)**2 / 2 / cs2**2 / rho - F.dot(F) / 2 /cs2/rho)\n",
    "Fi"
   ]
  },
  {
   "cell_type": "code",
   "execution_count": 79,
   "metadata": {},
   "outputs": [
    {
     "data": {
      "text/latex": [
       "$\\displaystyle \\gamma wi \\left(- \\frac{\\frac{3 Fx^{2}}{2} + \\frac{3 Fy^{2}}{2} + \\frac{3 Fz^{2}}{2}}{\\rho} + \\frac{9 \\left(Fx vx + Fy vy + Fz vz\\right)^{2}}{2 \\rho}\\right) + wi \\left(3 Fx \\left(- Ux + vx\\right) + 3 Fy \\left(- Uy + vy\\right) + 3 Fz \\left(- Uz + vz\\right) + 9 \\left(Fx vx + Fy vy + Fz vz\\right) \\left(Ux vx + Uy vy + Uz vz\\right)\\right) + \\frac{9 wi \\left(\\Phi_{xx} \\left(vx^{2} - \\frac{1}{3}\\right) + \\Phi_{xy} vx vy + \\Phi_{xz} vx vz + \\Phi_{yx} vx vy + \\Phi_{yy} \\left(vy^{2} - \\frac{1}{3}\\right) + \\Phi_{yz} vy vz + \\Phi_{zx} vx vz + \\Phi_{zy} vy vz + \\Phi_{zz} \\left(vz^{2} - \\frac{1}{3}\\right)\\right)}{2 \\tau}$"
      ],
      "text/plain": [
       "gamma*wi*(-(3*Fx**2/2 + 3*Fy**2/2 + 3*Fz**2/2)/rho + 9*(Fx*vx + Fy*vy + Fz*vz)**2/(2*rho)) + wi*(3*Fx*(-Ux + vx) + 3*Fy*(-Uy + vy) + 3*Fz*(-Uz + vz) + 9*(Fx*vx + Fy*vy + Fz*vz)*(Ux*vx + Uy*vy + Uz*vz)) + 9*wi*(Phi_xx*(vx**2 - 1/3) + Phi_xy*vx*vy + Phi_xz*vx*vz + Phi_yx*vx*vy + Phi_yy*(vy**2 - 1/3) + Phi_yz*vy*vz + Phi_zx*vx*vz + Phi_zy*vy*vz + Phi_zz*(vz**2 - 1/3))/(2*tau)"
      ]
     },
     "execution_count": 79,
     "metadata": {},
     "output_type": "execute_result"
    }
   ],
   "source": [
    "Fi = Fi + wi*trace((v*v.T - cs2*eye(v.shape[0]))*Phi.T) / 2 / tau / cs2**2\n",
    "Fi"
   ]
  },
  {
   "cell_type": "code",
   "execution_count": 81,
   "metadata": {},
   "outputs": [
    {
     "data": {
      "text/latex": [
       "$\\displaystyle \\frac{3 wi \\left(- \\gamma \\tau \\left(Fx^{2} + Fy^{2} + Fz^{2} - 3 \\left(Fx vx + Fy vy + Fz vz\\right)^{2}\\right) - 2 \\rho \\tau \\left(Fx \\left(Ux - vx\\right) + Fy \\left(Uy - vy\\right) + Fz \\left(Uz - vz\\right) - 3 \\left(Fx vx + Fy vy + Fz vz\\right) \\left(Ux vx + Uy vy + Uz vz\\right)\\right) + \\rho \\left(\\Phi_{xx} \\left(3 vx^{2} - 1\\right) + 3 \\Phi_{xy} vx vy + 3 \\Phi_{xz} vx vz + 3 \\Phi_{yx} vx vy + \\Phi_{yy} \\left(3 vy^{2} - 1\\right) + 3 \\Phi_{yz} vy vz + 3 \\Phi_{zx} vx vz + 3 \\Phi_{zy} vy vz + \\Phi_{zz} \\left(3 vz^{2} - 1\\right)\\right)\\right)}{2 \\rho \\tau}$"
      ],
      "text/plain": [
       "3*wi*(-gamma*tau*(Fx**2 + Fy**2 + Fz**2 - 3*(Fx*vx + Fy*vy + Fz*vz)**2) - 2*rho*tau*(Fx*(Ux - vx) + Fy*(Uy - vy) + Fz*(Uz - vz) - 3*(Fx*vx + Fy*vy + Fz*vz)*(Ux*vx + Uy*vy + Uz*vz)) + rho*(Phi_xx*(3*vx**2 - 1) + 3*Phi_xy*vx*vy + 3*Phi_xz*vx*vz + 3*Phi_yx*vx*vy + Phi_yy*(3*vy**2 - 1) + 3*Phi_yz*vy*vz + 3*Phi_zx*vx*vz + 3*Phi_zy*vy*vz + Phi_zz*(3*vz**2 - 1)))/(2*rho*tau)"
      ]
     },
     "execution_count": 81,
     "metadata": {},
     "output_type": "execute_result"
    }
   ],
   "source": [
    "Fi.simplify()"
   ]
  },
  {
   "cell_type": "code",
   "execution_count": 87,
   "metadata": {},
   "outputs": [
    {
     "data": {
      "text/latex": [
       "$\\displaystyle \\frac{3 wi \\left(- \\gamma \\tau \\left(Fx^{2} + Fy^{2} - 3 \\left(Fx vx + Fy vy\\right)^{2}\\right) - 2 \\rho \\tau \\left(Fx \\left(Ux - vx\\right) + Fy \\left(Uy - vy\\right) - 3 \\left(Fx vx + Fy vy\\right) \\left(Ux vx + Uy vy\\right)\\right) + \\rho \\left(\\Phi_{xx} \\left(3 vx^{2} - 1\\right) + 3 \\Phi_{xy} vx vy + 3 \\Phi_{yx} vx vy + \\Phi_{yy} \\left(3 vy^{2} - 1\\right)\\right)\\right)}{2 \\rho \\tau}$"
      ],
      "text/plain": [
       "3*wi*(-gamma*tau*(Fx**2 + Fy**2 - 3*(Fx*vx + Fy*vy)**2) - 2*rho*tau*(Fx*(Ux - vx) + Fy*(Uy - vy) - 3*(Fx*vx + Fy*vy)*(Ux*vx + Uy*vy)) + rho*(Phi_xx*(3*vx**2 - 1) + 3*Phi_xy*vx*vy + 3*Phi_yx*vx*vy + Phi_yy*(3*vy**2 - 1)))/(2*rho*tau)"
      ]
     },
     "execution_count": 87,
     "metadata": {},
     "output_type": "execute_result"
    }
   ],
   "source": [
    "Fi2D = Fi.subs({Fz:0, Uz:0, vz:0}).simplify()\n",
    "for s in Phi[2,:]:\n",
    "    Fi2D = Fi2D.subs(s,0)\n",
    "for s in Phi[:,2]:\n",
    "    Fi2D = Fi2D.subs(s,0)\n",
    "Fi2D"
   ]
  },
  {
   "cell_type": "code",
   "execution_count": 88,
   "metadata": {},
   "outputs": [
    {
     "data": {
      "text/plain": [
       "'(3.0/2.0)*wi*(-gamma*tau*(pow(Fx, 2) + pow(Fy, 2) - 3*pow(Fx*vx + Fy*vy, 2)) - 2*rho*tau*(Fx*(Ux - vx) + Fy*(Uy - vy) - 3*(Fx*vx + Fy*vy)*(Ux*vx + Uy*vy)) + rho*(Phi_xx*(3*pow(vx, 2) - 1) + 3*Phi_xy*vx*vy + 3*Phi_yx*vx*vy + Phi_yy*(3*pow(vy, 2) - 1)))/(rho*tau)'"
      ]
     },
     "execution_count": 88,
     "metadata": {},
     "output_type": "execute_result"
    }
   ],
   "source": [
    "ccode(Fi2D)"
   ]
  },
  {
   "cell_type": "code",
   "execution_count": 92,
   "metadata": {},
   "outputs": [
    {
     "data": {
      "text/plain": [
       "'// Not supported in C:\\n// ImmutableDenseMatrix\\nMatrix([\\n[Phi_xx, Phi_xy],\\n[Phi_yx, Phi_yy]])'"
      ]
     },
     "execution_count": 92,
     "metadata": {},
     "output_type": "execute_result"
    }
   ],
   "source": [
    "\n",
    "ccode(Phi[0:2,0:2])"
   ]
  },
  {
   "cell_type": "code",
   "execution_count": null,
   "metadata": {},
   "outputs": [],
   "source": []
  }
 ],
 "metadata": {
  "kernelspec": {
   "display_name": "Python 3",
   "language": "python",
   "name": "python3"
  },
  "language_info": {
   "codemirror_mode": {
    "name": "ipython",
    "version": 3
   },
   "file_extension": ".py",
   "mimetype": "text/x-python",
   "name": "python",
   "nbconvert_exporter": "python",
   "pygments_lexer": "ipython3",
   "version": "3.8.3"
  }
 },
 "nbformat": 4,
 "nbformat_minor": 4
}
